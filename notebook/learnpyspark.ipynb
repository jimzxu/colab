{
  "nbformat": 4,
  "nbformat_minor": 0,
  "metadata": {
    "colab": {
      "name": "LearnPyspark.ipynb",
      "provenance": [],
      "collapsed_sections": [],
      "include_colab_link": true
    },
    "kernelspec": {
      "name": "python3",
      "display_name": "Python 3"
    }
  },
  "cells": [
    {
      "cell_type": "markdown",
      "metadata": {
        "id": "view-in-github",
        "colab_type": "text"
      },
      "source": [
        "<a href=\"https://colab.research.google.com/github/jimzxu/colab/blob/master/notebook/learnpyspark.ipynb\" target=\"_parent\"><img src=\"https://colab.research.google.com/assets/colab-badge.svg\" alt=\"Open In Colab\"/></a>"
      ]
    },
    {
      "cell_type": "code",
      "metadata": {
        "colab_type": "code",
        "id": "aBHt4yIKb7py",
        "colab": {}
      },
      "source": [
        "!pip install pyspark"
      ],
      "execution_count": 0,
      "outputs": []
    },
    {
      "cell_type": "code",
      "metadata": {
        "colab_type": "code",
        "id": "_eWHbEBqb7pv",
        "colab": {}
      },
      "source": [
        "from pyspark.sql import SparkSession\n",
        "spark = SparkSession.builder \\\n",
        ".appName(\"PysparkExample1\") \\\n",
        ".config(\"spark.some.config.option\", \"some-value\") \\\n",
        ".getOrCreate()\n"
      ],
      "execution_count": 0,
      "outputs": []
    },
    {
      "cell_type": "code",
      "metadata": {
        "colab_type": "code",
        "id": "qOd4LIZ-b7pr",
        "colab": {}
      },
      "source": [
        "df = spark.sparkContext.parallelize([(1,2,3,'a b c'),(4,5,6,'d e f'),(7,8,9, 'g h i')]) \\\n",
        ".toDF(['col1', 'col2', 'col3', 'col4'])"
      ],
      "execution_count": 0,
      "outputs": []
    },
    {
      "cell_type": "code",
      "metadata": {
        "colab_type": "code",
        "id": "iZmAwSsKb7po",
        "colab": {}
      },
      "source": [
        "df.show()"
      ],
      "execution_count": 0,
      "outputs": []
    },
    {
      "cell_type": "code",
      "metadata": {
        "colab_type": "code",
        "id": "qWr7MD4Ub7pk",
        "colab": {}
      },
      "source": [
        "df.columns"
      ],
      "execution_count": 0,
      "outputs": []
    },
    {
      "cell_type": "code",
      "metadata": {
        "colab_type": "code",
        "id": "kjHqbLgIb7pi",
        "colab": {}
      },
      "source": [
        "!ls -l sample_data/"
      ],
      "execution_count": 0,
      "outputs": []
    },
    {
      "cell_type": "code",
      "metadata": {
        "colab_type": "code",
        "id": "axPE9Ctgb7pf",
        "colab": {}
      },
      "source": [
        "with open('sample_data/anscombe.json', 'rt', encoding='utf-8') as f:\n",
        "  data = f.read()"
      ],
      "execution_count": 0,
      "outputs": []
    },
    {
      "cell_type": "code",
      "metadata": {
        "colab_type": "code",
        "id": "_-dzWVHXb7pb",
        "colab": {}
      },
      "source": [
        "with open('sample_data/somefile.txt', 'wt', encoding='utf-8') as outfile:\n",
        "  print('Hello world!', file=outfile)"
      ],
      "execution_count": 0,
      "outputs": []
    },
    {
      "cell_type": "code",
      "metadata": {
        "colab_type": "code",
        "id": "AjXvFZFUb7pY",
        "colab": {}
      },
      "source": [
        "!cat sample_data/somefile.txt"
      ],
      "execution_count": 0,
      "outputs": []
    },
    {
      "cell_type": "code",
      "metadata": {
        "colab_type": "code",
        "id": "0D8ybomGb7pU",
        "colab": {}
      },
      "source": [
        "import io"
      ],
      "execution_count": 0,
      "outputs": []
    },
    {
      "cell_type": "code",
      "metadata": {
        "colab_type": "code",
        "id": "u5GMeOmsb7pS",
        "colab": {}
      },
      "source": [
        "s = io.StringIO()\n",
        "s.write('Hello There\\n')\n",
        "print('This is a testing', file=s)\n",
        "s.getvalue()"
      ],
      "execution_count": 0,
      "outputs": []
    },
    {
      "cell_type": "code",
      "metadata": {
        "colab_type": "code",
        "id": "JBo5atyFb7pP",
        "colab": {}
      },
      "source": [
        "import gzip"
      ],
      "execution_count": 0,
      "outputs": []
    },
    {
      "cell_type": "code",
      "metadata": {
        "colab_type": "code",
        "id": "nN703MCeb7pM",
        "colab": {}
      },
      "source": [
        "!mkdir sample\n",
        "with gzip.open('sample/somefile.gz', 'wt') as zipf:\n",
        "  zipf.write('some data in zip file')\n",
        "!zcat sample/somefile.gz"
      ],
      "execution_count": 0,
      "outputs": []
    },
    {
      "cell_type": "code",
      "metadata": {
        "colab_type": "code",
        "id": "74wo0g2-b7pI",
        "colab": {}
      },
      "source": [
        "import os"
      ],
      "execution_count": 0,
      "outputs": []
    },
    {
      "cell_type": "code",
      "metadata": {
        "colab_type": "code",
        "id": "KVsFF9Tlb7pE",
        "colab": {}
      },
      "source": [
        "path = '/content/sample/data/data.csv'\n",
        "os.path.basename(path)\n",
        "os.path.dirname(path)\n",
        "os.path.join('tmp','data', os.path.basename(path))\n",
        "os.path.splitext(path)\n",
        "os.path.split(path)"
      ],
      "execution_count": 0,
      "outputs": []
    },
    {
      "cell_type": "code",
      "metadata": {
        "colab_type": "code",
        "id": "UZ5OFA-lb7pB",
        "colab": {}
      },
      "source": [
        "os.path.exists('/content/')\n",
        "os.path.isfile('/content/sample/somefile.gz')\n",
        "os.listdir('/content/sample/')"
      ],
      "execution_count": 0,
      "outputs": []
    },
    {
      "cell_type": "code",
      "metadata": {
        "colab_type": "code",
        "id": "ZbkTryGob7o9",
        "colab": {}
      },
      "source": [
        "import pickle\n",
        "import json"
      ],
      "execution_count": 0,
      "outputs": []
    },
    {
      "cell_type": "code",
      "metadata": {
        "colab_type": "code",
        "id": "gQwcu0w8b7o6",
        "colab": {}
      },
      "source": [
        "data = {'key1':'value1', 'key2':'value2'}\n",
        "with open('sample/s1.data','wb') as bfile:\n",
        "  pickle.dump(data, bfile)\n",
        "\n",
        "with open('sample/s2.json', 'wt') as jsonfile:\n",
        "  json.dump(data, jsonfile)\n",
        "!ls sample/\n",
        "!cat sample/s2.json"
      ],
      "execution_count": 0,
      "outputs": []
    },
    {
      "cell_type": "code",
      "metadata": {
        "colab_type": "code",
        "id": "GNqy1oeqb7o1",
        "colab": {}
      },
      "source": [
        "import re"
      ],
      "execution_count": 0,
      "outputs": []
    },
    {
      "cell_type": "code",
      "metadata": {
        "colab_type": "code",
        "id": "ST7SdmITb7oy",
        "colab": {}
      },
      "source": [
        "line = 'asdf fjdk;  afed, fjek,asdf,      fdah'\n",
        "line_contents = re.split(r'[;,\\s]\\s*', line) \n",
        "fields = re.split(r'(,|;|\\s)\\s*', line)\n",
        "values = fields[::2]\n",
        "delimiters = fields[1::2]+['']\n",
        "joined_fields = ''.join(v+d for v,d in zip(fields, delimiters))\n",
        "text1 = '11/27/2012'\n",
        "text2 = 'Nov 27, 2012'\n",
        "if re.match(r'\\d+/\\d+/\\d+', text1):\n",
        "  print('yes')\n",
        "else:\n",
        "  print('no')\n",
        "datepat = re.compile(r'\\d+/\\d+/\\d+')\n",
        "if datepat.match(text1):\n",
        "  print('yes')\n",
        "else:\n",
        "  print('no')\n",
        "datepat.findall(text1)\n",
        "datepatm = re.compile(r'(\\d+)/(\\d+)/(\\d+)')\n",
        "m = datepatm.match('11/27/2012')\n",
        "m.group(0)\n",
        "m.group(1)\n",
        "m.group(2)\n",
        "m.group(3)\n",
        "m.groups()"
      ],
      "execution_count": 0,
      "outputs": []
    },
    {
      "cell_type": "code",
      "metadata": {
        "colab_type": "code",
        "id": "wB8IpzJ1b7ov",
        "colab": {}
      },
      "source": [
        "filenames = os.listdir('sample/')\n",
        "any(name.endswith('json') for name in filenames)\n"
      ],
      "execution_count": 0,
      "outputs": []
    },
    {
      "cell_type": "code",
      "metadata": {
        "colab_type": "code",
        "id": "-Tw2sEWtb7os",
        "colab": {}
      },
      "source": [
        "from fnmatch import fnmatch, fnmatchcase\n",
        "fnmatch('foo.txt', '*.txt')\n",
        "fnmatch('foo.txt', '?oo.txt')"
      ],
      "execution_count": 0,
      "outputs": []
    },
    {
      "cell_type": "code",
      "metadata": {
        "colab_type": "code",
        "id": "-dtJGTdxb7op",
        "colab": {}
      },
      "source": [
        "text = 'yeah, but no, but yeah, but no, but yeah'\n",
        "text.find('no')\n"
      ],
      "execution_count": 0,
      "outputs": []
    },
    {
      "cell_type": "code",
      "metadata": {
        "colab_type": "code",
        "id": "ik2KsObBb7oi",
        "colab": {}
      },
      "source": [
        "text = 'UPPER PYTHON, lower python, Mixed Python'\n",
        "re.findall('python', text, flags=re.IGNORECASE)\n",
        "re.sub('python', 'snake', text, flags=re.IGNORECASE)"
      ],
      "execution_count": 0,
      "outputs": []
    },
    {
      "cell_type": "code",
      "metadata": {
        "colab_type": "code",
        "id": "tl1F-RyEb7oe",
        "colab": {}
      },
      "source": [
        "s = '   hello world   \\n'\n",
        "s.strip()\n",
        "s.lstrip()\n",
        "s.rstrip()\n",
        "re.sub('\\s+', ' ', s)\n",
        "print('a', 'b', 'c', sep=':')"
      ],
      "execution_count": 0,
      "outputs": []
    },
    {
      "cell_type": "code",
      "metadata": {
        "colab_type": "code",
        "id": "IPulHr3Bb7ob",
        "colab": {}
      },
      "source": [
        ""
      ],
      "execution_count": 0,
      "outputs": []
    },
    {
      "cell_type": "markdown",
      "metadata": {
        "colab_type": "text",
        "id": "PlXDhCGFb7oa"
      },
      "source": [
        "Pyspark Receipts\n",
        "\n",
        "https://kontext.tech/column/spark/316/pyspark-convert-python-arraylist-to-spark-data-frame"
      ]
    },
    {
      "cell_type": "code",
      "metadata": {
        "colab_type": "code",
        "id": "TxflHK33b7oW",
        "colab": {}
      },
      "source": [
        "!wget https://archive.ics.uci.edu/ml/machine-learning-databases/adult/adult.data"
      ],
      "execution_count": 0,
      "outputs": []
    },
    {
      "cell_type": "code",
      "metadata": {
        "colab_type": "code",
        "id": "hYgdIb4Ab7oR",
        "colab": {}
      },
      "source": [
        "from pyspark.sql.types import StructType, DoubleType, StringType, IntegerType, StructField, ArrayType\n",
        "# AdultDataSchema = StructType([\n",
        "#     StructField('age', IntegerType(), True),\n",
        "#     StructField('workclass', StringType(), True),\n",
        "#     StructField('fnlwgt', DoubleType(), True),\n",
        "#     StructField('education', StringType(), True),\n",
        "#     StructField('education-num', DoubleType(), True),\n",
        "#     StructField('marital-status', StringType(), True),\n",
        "#     StructField('occupation', StringType(), True),\n",
        "#     StructField('race', StringType(), True),\n",
        "#     StructField('sex', StringType(), True),\n",
        "#     StructField('capital-gain', DoubleType(), True),\n",
        "#     StructField('capital-loss', DoubleType(), True),\n",
        "#     StructField('hours-per-week', DoubleType(), True),\n",
        "#     StructField('native-country', StringType(), True),\n",
        "#     StructField('income', StringType(), True)\n",
        "# ])\n",
        "\n",
        "AdultDataSchema = StructType([\n",
        "    StructField('age', IntegerType(), True),\n",
        "    StructField('workclass', StringType(), True),\n",
        "    StructField('fnlwgt', DoubleType(), True),\n",
        "    StructField('education', StringType(), True),\n",
        "    StructField('education-num', DoubleType(), True),\n",
        "    StructField('marital-status', StringType(), True),\n",
        "    StructField('occupation', StringType(), True),\n",
        "    StructField('relationship', StringType(), True),\n",
        "    StructField('race', StringType(), True),\n",
        "    StructField('sex', StringType(), True),\n",
        "    StructField('capital-gain', DoubleType(), True),\n",
        "    StructField('capital-loss', DoubleType(), True),\n",
        "    StructField('hours-per-week', DoubleType(), True),\n",
        "    StructField('native-country', StringType(), True),\n",
        "    StructField('income', StringType(), True)\n",
        "])\n",
        "\n",
        "censusDF = spark.read.csv('adult.data', schema=AdultDataSchema, nullValue='NA', header=False, sep=',')\n",
        "##censusDF = spark.read.format(\"com.databricks.spark.csv\").option(\"delimiter\",\",\").option(\"quote\",\"\").option(\"header\", \"false\").schema(AdultDataSchema).load('adult.data')"
      ],
      "execution_count": 0,
      "outputs": []
    },
    {
      "cell_type": "code",
      "metadata": {
        "colab_type": "code",
        "id": "7qhlb57_b7oB",
        "colab": {}
      },
      "source": [
        "censusDF.show(5)\n",
        "censusDF.printSchema()\n"
      ],
      "execution_count": 0,
      "outputs": []
    },
    {
      "cell_type": "code",
      "metadata": {
        "colab_type": "code",
        "id": "MCyvlnsQb7nw",
        "colab": {}
      },
      "source": [
        "censusDF.groupby('income').count().show()\n",
        "# censusDF.describe('age').show()\n",
        "censusDF.groupby('sex').mean('age').show()"
      ],
      "execution_count": 0,
      "outputs": []
    },
    {
      "cell_type": "code",
      "metadata": {
        "colab_type": "code",
        "id": "C0JxT59cb7nV",
        "colab": {}
      },
      "source": [
        ""
      ],
      "execution_count": 0,
      "outputs": []
    }
  ]
}